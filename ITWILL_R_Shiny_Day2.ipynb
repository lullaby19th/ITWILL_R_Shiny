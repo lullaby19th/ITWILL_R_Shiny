{
 "cells": [
  {
   "cell_type": "markdown",
   "metadata": {},
   "source": [
    "## ■ 신경망 활용 홈페이지\n",
    "\n",
    "오라클 --> 파이썬 --> R shiny로 홈페이지 구축"
   ]
  },
  {
   "cell_type": "markdown",
   "metadata": {},
   "source": [
    "## ■ 함수 사용법\n",
    "\n",
    "1. 문자함수\n",
    "2. 숫자함수\n",
    "3. 날짜함수\n",
    "4. 변환함수\n",
    "5. 일반함수"
   ]
  },
  {
   "cell_type": "markdown",
   "metadata": {},
   "source": [
    "## ■ 문자 함수\n",
    "\n",
    "|   SQL   |    R    |\n",
    "|:-------:|:-------:|\n",
    "|  upper  | toupper |\n",
    "|  lower  | tolower |\n",
    "| substr  | substr  |\n",
    "| replace | gsub    |"
   ]
  },
  {
   "cell_type": "markdown",
   "metadata": {},
   "source": [
    "## 문제16. 이름과 직업을 출력하는데 소문자로 출력하시오!"
   ]
  },
  {
   "cell_type": "code",
   "execution_count": null,
   "metadata": {},
   "outputs": [],
   "source": [
    "setwd(\"d:\\\\data\")\n",
    "emp <- read.csv(\"emp.csv\", header=T)\n",
    "library(data.table)\n",
    "data.table(이름=tolower(emp$ename), 직업=tolower(emp$job)) # tolower로 소문자로 출력하게 한다."
   ]
  },
  {
   "cell_type": "markdown",
   "metadata": {},
   "source": [
    "## 문제17.(subtr함수) 이름의 두번째 철자가 M인 사원들의 이름과 월급을 출력하는데 substr 함수를 이용해서 출력하시오!"
   ]
  },
  {
   "cell_type": "code",
   "execution_count": null,
   "metadata": {},
   "outputs": [],
   "source": [
    "setwd(\"d:\\\\data\")\n",
    "emp <- read.csv(\"emp.csv\", header=T)\n",
    "\n",
    "# emp[행, 열]\n",
    "emp[substr(emp$ename,2,2)=='M', c(\"ename\", \"sal\")] # 2에서 부터 2까지 (이름의 2번째 자리부터 2번째 자리까지)"
   ]
  },
  {
   "cell_type": "markdown",
   "metadata": {},
   "source": [
    "## 문제18. 이름을 출력하고 그 옆에 이름의 첫번째 철자부터 세번째 철자까지 출력하시오!"
   ]
  },
  {
   "cell_type": "code",
   "execution_count": null,
   "metadata": {},
   "outputs": [],
   "source": [
    "setwd(\"d:\\\\data\")\n",
    "emp <- read.csv(\"emp.csv\", header=T)\n",
    "library(data.table)\n",
    "\n",
    "data.table(이름=(emp$ename), 이름=substr(emp$ename,1,3))"
   ]
  },
  {
   "cell_type": "markdown",
   "metadata": {},
   "source": [
    "## 문제19.(gsub함수) 이름과 월급을 출력하는데 월급을 출력할 떄 숫자 0을 * 로 출력하시오!"
   ]
  },
  {
   "cell_type": "code",
   "execution_count": null,
   "metadata": {},
   "outputs": [],
   "source": [
    "setwd(\"d:\\\\data\")\n",
    "emp <- read.csv(\"emp.csv\", header=T)\n",
    "library(data.table)\n",
    "\n",
    "data.table(emp$ename, gsub(0,'*',emp$sal))"
   ]
  },
  {
   "cell_type": "markdown",
   "metadata": {},
   "source": [
    "## ■ 숫자함수\n",
    "\n",
    "|  SQL  |     R     |\n",
    "|:-----:|:---------:|\n",
    "| round |   round   |\n",
    "| trunc |   trunc   |\n",
    "| mod   | %%        |\n",
    "| power | ^(예:2^3) |"
   ]
  },
  {
   "cell_type": "markdown",
   "metadata": {},
   "source": [
    "## 문제20.(^) 6의 9승을 출력하시오!"
   ]
  },
  {
   "cell_type": "markdown",
   "metadata": {},
   "source": [
    "6^9"
   ]
  },
  {
   "cell_type": "markdown",
   "metadata": {},
   "source": [
    "## 문제21. (%%) 10을 3으로 나눈 나머지값을 출력하시오!"
   ]
  },
  {
   "cell_type": "markdown",
   "metadata": {},
   "source": [
    "10%%3"
   ]
  },
  {
   "cell_type": "markdown",
   "metadata": {},
   "source": [
    "## 문제22.(round함수) 이름과 연봉을 출력하는데 연봉을 월급에 12를 곱해서 출력하고 컬럼명을 한글로 연봉으로 출력되게 하시오!"
   ]
  },
  {
   "cell_type": "code",
   "execution_count": null,
   "metadata": {},
   "outputs": [],
   "source": [
    "# 이코드에서 업그레이드 할것\n",
    "setwd(\"d:\\\\data\")\n",
    "emp <- read.csv(\"emp.csv\", header=T)\n",
    "library(data.table)\n",
    "\n",
    "data.table(이름=(emp$ename), 연봉=(emp$sal)*12)"
   ]
  },
  {
   "cell_type": "code",
   "execution_count": null,
   "metadata": {},
   "outputs": [],
   "source": [
    "setwd(\"d:\\\\data\")\n",
    "emp <- read.csv(\"emp.csv\", header=T)\n",
    "library(data.table)\n",
    "\n",
    "data.table(이름=(emp$ename), 연봉=round((emp$sal)*12,-3))"
   ]
  },
  {
   "cell_type": "markdown",
   "metadata": {},
   "source": [
    "## ※ R의 round의 특징\n",
    "\n",
    "122 ----- 122.5 ----- 123\n",
    "\n",
    "round(122.5) = 122 선택  \n",
    "\n",
    "123 ----- 123.5 ----- 124\n",
    "\n",
    "round(123.5) = 124\n",
    "\n",
    "### \"R은 짝수를 좋아한다.\""
   ]
  },
  {
   "cell_type": "markdown",
   "metadata": {},
   "source": [
    "## 문제23.(trunc) 문제24번 결과를 다시 출력하는데 백자리를 포함해서 그 이후를 다 버려서 출력하시오!"
   ]
  },
  {
   "cell_type": "code",
   "execution_count": null,
   "metadata": {},
   "outputs": [],
   "source": [
    "# trunc : 버림카드\n",
    "setwd(\"d:\\\\data\")\n",
    "emp <- read.csv(\"emp.csv\", header=T)\n",
    "library(data.table)\n",
    "\n",
    "data.table(이름=(emp$ename), 연봉=trunc((emp$sal)*12,-3))"
   ]
  },
  {
   "cell_type": "markdown",
   "metadata": {},
   "source": [
    "### 문제24. doBy 패키지를 이용해서 위의 결과를 정렬해서 출력하시오! 연봉이 높은것부터 출력하시오!"
   ]
  },
  {
   "cell_type": "code",
   "execution_count": null,
   "metadata": {},
   "outputs": [],
   "source": [
    "# trunc : 버림카드\n",
    "setwd(\"d:\\\\data\")\n",
    "emp <- read.csv(\"emp.csv\", header=T)\n",
    "library(data.table)\n",
    "\n",
    "# install.packages(\"doBy\")\n",
    "library(doBy)\n",
    "\n",
    "orderBy(~-연봉, data.table(이름=(emp$ename), 연봉=trunc((emp$sal)*12,-3)))\n",
    "# 뒤에 있는 결과를 ~-연봉 즉, 연봉이 높은 순서대로(-를 붙임으로써) 출력하겠다는 뜻."
   ]
  },
  {
   "cell_type": "markdown",
   "metadata": {},
   "source": [
    "## ■ 일반함수\n",
    "\n",
    "|   오라클   |    R   |\n",
    "|:----------:|:------:|\n",
    "|   nvl함수  |  is.na |\n",
    "| decode함수 | ifelse |\n",
    "| case함수   | ifelse |"
   ]
  },
  {
   "cell_type": "markdown",
   "metadata": {},
   "source": [
    "## 문제25. 이름, 월급, 등급을 출력하는데 월급이 1500이상이면 등급을 A로 출력하고 아니면 B로 출력하시오!"
   ]
  },
  {
   "cell_type": "code",
   "execution_count": null,
   "metadata": {},
   "outputs": [],
   "source": [
    "SQL>\n",
    "select ename,sal, case when sal>=1500 then 'A'\n",
    "                    else 'B' end as \"등급\"\n",
    "    from emp;"
   ]
  },
  {
   "cell_type": "code",
   "execution_count": null,
   "metadata": {},
   "outputs": [],
   "source": [
    "setwd(\"d:\\\\data\")\n",
    "emp <- read.csv(\"emp.csv\", header=T)\n",
    "library(data.table)\n",
    "data.table(이름=emp$ename, 월급=emp$sal, 등급=ifelse(emp$sal >=1500, 'A', 'B'))"
   ]
  },
  {
   "cell_type": "markdown",
   "metadata": {},
   "source": [
    "## 문제26. is.na 함수를 이용해서 커미션이 NA인 사원들의 이름과 커미션을 출력하시오!"
   ]
  },
  {
   "cell_type": "code",
   "execution_count": null,
   "metadata": {},
   "outputs": [],
   "source": [
    "setwd(\"d:\\\\data\")\n",
    "emp <- read.csv(\"emp.csv\", header=T)\n",
    "\n",
    "emp[is.na(emp$comm), c(\"ename\", \"comm\")]"
   ]
  },
  {
   "cell_type": "markdown",
   "metadata": {},
   "source": [
    "## 문제27. ifelse와 is.na를 이용해서 아래의 SQL을 R로 변경하시오!"
   ]
  },
  {
   "cell_type": "code",
   "execution_count": null,
   "metadata": {},
   "outputs": [],
   "source": [
    "SQL> \n",
    "select ename, nvl(to_char(comm), 'no comm')\n",
    "from emp"
   ]
  },
  {
   "cell_type": "code",
   "execution_count": null,
   "metadata": {},
   "outputs": [],
   "source": [
    "setwd(\"d:\\\\data\")\n",
    "emp <- read.csv(\"emp.csv\", header=T)\n",
    "library(data.table)\n",
    "data.table(이름=emp$ename, 커미션=ifelse(is.na(emp$comm), 'no comm', emp$comm))"
   ]
  },
  {
   "cell_type": "markdown",
   "metadata": {},
   "source": [
    "## ■ R에서의 그룹함수\n",
    "\n",
    "| 오라클 |       R      |\n",
    "|:------:|:------------:|\n",
    "|   max  |      max     |\n",
    "|   min  |      min     |\n",
    "|   sum  |      sum     |\n",
    "|   avg  |     mean     |\n",
    "|  count | length(세로) |\n",
    "|        |  table(가로) |"
   ]
  },
  {
   "cell_type": "markdown",
   "metadata": {},
   "source": [
    "## 문제28. 최대월급을 출력하시오!\n",
    "\n",
    "max(emp$sal)"
   ]
  },
  {
   "cell_type": "markdown",
   "metadata": {},
   "source": [
    "## 문제29. 직업이 SALESMAN인 사원들 중에서 최대월급을 출력하시오!"
   ]
  },
  {
   "cell_type": "code",
   "execution_count": null,
   "metadata": {},
   "outputs": [],
   "source": [
    "setwd(\"d:\\\\data\")\n",
    "emp <- read.csv(\"emp.csv\", header=T)\n",
    "x<-emp[emp$job == 'SALESMAN', 'sal']\n",
    "x # [1] 1250 1600 1500 1250\n",
    "max(x) # [1] 1600"
   ]
  },
  {
   "cell_type": "markdown",
   "metadata": {},
   "source": [
    "## 문제30. 직업, 직업별 최대월급을 출력하시오!"
   ]
  },
  {
   "cell_type": "code",
   "execution_count": null,
   "metadata": {},
   "outputs": [],
   "source": [
    "SQL>\n",
    "select job, max(sal)\n",
    "    from emp\n",
    "    group by job;"
   ]
  },
  {
   "cell_type": "code",
   "execution_count": null,
   "metadata": {},
   "outputs": [],
   "source": [
    "R>\n",
    "setwd(\"d:\\\\data\")\n",
    "emp <- read.csv(\"emp.csv\", header=T)\n",
    "aggregate(sal~job, emp, max)"
   ]
  },
  {
   "cell_type": "markdown",
   "metadata": {},
   "source": [
    "## 문제31. 부서번호, 부서번호별 최소월급을 출력하시오!"
   ]
  },
  {
   "cell_type": "code",
   "execution_count": null,
   "metadata": {},
   "outputs": [],
   "source": [
    "SQL>\n",
    "select deptno, min(sal)\n",
    "    from emp\n",
    "    group by deptno;"
   ]
  },
  {
   "cell_type": "code",
   "execution_count": null,
   "metadata": {},
   "outputs": [],
   "source": [
    "R>\n",
    "setwd(\"d:\\\\data\")\n",
    "emp <- read.csv(\"emp.csv\", header=T)\n",
    "aggregate(sal~deptno,emp,min)"
   ]
  },
  {
   "cell_type": "markdown",
   "metadata": {},
   "source": [
    "## 문제32. 부서번호, 직업, 부서번호별 직업별 토탈월급을 출력하시오!"
   ]
  },
  {
   "cell_type": "code",
   "execution_count": null,
   "metadata": {},
   "outputs": [],
   "source": [
    "SQL>\n",
    "select deptno, job, sum(sal)\n",
    "    from emp\n",
    "    group by deptno, job;"
   ]
  },
  {
   "cell_type": "code",
   "execution_count": null,
   "metadata": {},
   "outputs": [],
   "source": [
    "R>\n",
    "setwd(\"d:\\\\data\")\n",
    "emp <- read.csv(\"emp.csv\", header=T)\n",
    "aggregate(sal~deptno+job,emp,sum)"
   ]
  },
  {
   "cell_type": "markdown",
   "metadata": {},
   "source": [
    "## 문제33. 위의 결과를 다시 출력하는데 부서번호를 정렬해서 낮은번호부터 나오게 출력하시오!"
   ]
  },
  {
   "cell_type": "code",
   "execution_count": null,
   "metadata": {},
   "outputs": [],
   "source": [
    "R>\n",
    "setwd(\"d:\\\\data\")\n",
    "emp <- read.csv(\"emp.csv\", header=T)\n",
    "library(doBy)\n",
    "orderBy(~deptno,aggregate(sal~deptno+job,emp,sum))"
   ]
  },
  {
   "cell_type": "markdown",
   "metadata": {},
   "source": [
    "## 문제34. 부서번호, 부서번호별 토탈월급을 출력하는데 토탈월급이 높은것부터 출력하게하시오!"
   ]
  },
  {
   "cell_type": "code",
   "execution_count": null,
   "metadata": {},
   "outputs": [],
   "source": [
    "R>\n",
    "setwd(\"d:\\\\data\")\n",
    "emp <- read.csv(\"emp.csv\", header=T)\n",
    "library(doBy)\n",
    "orderBy(~-sal,aggregate(sal~deptno,emp,sum))"
   ]
  },
  {
   "cell_type": "markdown",
   "metadata": {},
   "source": [
    "## 문제35. 위의 결과에 컬럼명을 한글로 부서번호, 토탈월급으로 변경하시오!"
   ]
  },
  {
   "cell_type": "code",
   "execution_count": null,
   "metadata": {},
   "outputs": [],
   "source": [
    "R>\n",
    "setwd(\"d:\\\\data\")\n",
    "emp <- read.csv(\"emp.csv\", header=T)\n",
    "library(doBy)\n",
    "x <- orderBy(~-sal,aggregate(sal~deptno,emp,sum))\n",
    "\n",
    "\n",
    "names(x) <- c(\"부서번호\", \"토탈월급\")\n",
    "x"
   ]
  },
  {
   "cell_type": "markdown",
   "metadata": {},
   "source": [
    "## 문제36. 직업, 직업별 인원수를 출력하시오!"
   ]
  },
  {
   "cell_type": "code",
   "execution_count": null,
   "metadata": {},
   "outputs": [],
   "source": [
    "SQL>\n",
    "select job, count(*)\n",
    "    from emp\n",
    "    group by job;"
   ]
  },
  {
   "cell_type": "code",
   "execution_count": null,
   "metadata": {},
   "outputs": [],
   "source": [
    "# 세로로출력\n",
    "R> \n",
    "setwd(\"d:\\\\data\")\n",
    "emp <- read.csv(\"emp.csv\", header=T)\n",
    "aggregate(empno~job,emp, length)"
   ]
  },
  {
   "cell_type": "code",
   "execution_count": null,
   "metadata": {},
   "outputs": [],
   "source": [
    "# 가로로 출력\n",
    "R>\n",
    "\n",
    "setwd(\"d:\\\\data\")\n",
    "emp <- read.csv(\"emp.csv\", header=T)\n",
    "table(emp$job)"
   ]
  },
  {
   "cell_type": "markdown",
   "metadata": {},
   "source": [
    "## 문제37. 위의 결과를 막대 그래프로 그리시오!"
   ]
  },
  {
   "cell_type": "code",
   "execution_count": null,
   "metadata": {},
   "outputs": [],
   "source": [
    "R>\n",
    "setwd(\"d:\\\\data\")\n",
    "emp <- read.csv(\"emp.csv\", header=T)\n",
    "x<- table(emp$job)\n",
    "barplot(x, main=\"직업별 인원수\", col=rainbow(5), density=50)"
   ]
  },
  {
   "cell_type": "markdown",
   "metadata": {},
   "source": [
    "## 문제38. 직업, 직업별 평균월급을 출력하는데 세로, 가로 둘다 출력하시오!"
   ]
  },
  {
   "cell_type": "code",
   "execution_count": null,
   "metadata": {},
   "outputs": [],
   "source": [
    "# 세로 출력\n",
    "setwd(\"d:\\\\data\")\n",
    "emp <- read.csv(\"emp.csv\", header=T)\n",
    "aggregate(sal~job,emp,mean)"
   ]
  },
  {
   "cell_type": "code",
   "execution_count": null,
   "metadata": {},
   "outputs": [],
   "source": [
    "# 가로 출력\n",
    "setwd(\"d:\\\\data\")\n",
    "emp <- read.csv(\"emp.csv\", header=T)\n",
    "tapply(emp$sal, emp$job, mean)"
   ]
  },
  {
   "cell_type": "markdown",
   "metadata": {},
   "source": [
    "## 문제39. 위의 결과에서 소수점 이하는 안나오게 하시오!"
   ]
  },
  {
   "cell_type": "code",
   "execution_count": null,
   "metadata": {},
   "outputs": [],
   "source": [
    "setwd(\"d:\\\\data\")\n",
    "emp <- read.csv(\"emp.csv\", header=T)\n",
    "trunc(tapply(emp$sal, emp$job, mean))"
   ]
  },
  {
   "cell_type": "markdown",
   "metadata": {},
   "source": [
    "## 문제40. 입사한 년도를 4자리로 출력하시오!"
   ]
  },
  {
   "cell_type": "code",
   "execution_count": null,
   "metadata": {},
   "outputs": [],
   "source": [
    "setwd(\"d:\\\\data\")\n",
    "emp <- read.csv(\"emp.csv\", header=T)\n",
    "format(as.Date(emp$hiredate), '%Y')\n",
    "\n",
    "# as.Date : 날짜로 형변환하는 함수\n",
    "# %Y : 년도 4자리 포맷형식"
   ]
  },
  {
   "cell_type": "markdown",
   "metadata": {},
   "source": [
    "## 문제42. 입사한 년도와 입사한 년도별 토탈월급을 가로로 출력하시오!"
   ]
  },
  {
   "cell_type": "code",
   "execution_count": null,
   "metadata": {},
   "outputs": [],
   "source": [
    "setwd(\"d:\\\\data\")\n",
    "emp <- read.csv(\"emp.csv\", header=T)\n",
    "tapply(emp$sal, format(as.Date(emp$hiredate), '%Y'), sum)\n",
    "tapply(emp$sal, year(emp$hiredate), sum)"
   ]
  },
  {
   "cell_type": "markdown",
   "metadata": {},
   "source": [
    "## 문제43. 직업, 부서번호, 직업별 부서번호별 토탈월급을 출력하시오!"
   ]
  },
  {
   "cell_type": "code",
   "execution_count": null,
   "metadata": {},
   "outputs": [],
   "source": [
    "SQL>\n",
    "select job, sum(decode(deptno, 10, sal)) as \"10\",\n",
    "            sum(decode(deptno, 20, sal)) as \"20\",\n",
    "            sum(decode(deptno, 30, sal)) as \"30\"\n",
    "        from emp\n",
    "        group by job;"
   ]
  },
  {
   "cell_type": "code",
   "execution_count": null,
   "metadata": {},
   "outputs": [],
   "source": [
    "R>\n",
    "setwd(\"d:\\\\data\")\n",
    "emp <- read.csv(\"emp.csv\", header=T)\n",
    "tapply(emp$sal, list(emp$job, emp$deptno), sum)"
   ]
  },
  {
   "cell_type": "markdown",
   "metadata": {},
   "source": [
    "## 문제44. 위의 결과에서 NA를 0으로 변경해서 출력하시오!"
   ]
  },
  {
   "cell_type": "code",
   "execution_count": null,
   "metadata": {},
   "outputs": [],
   "source": [
    "setwd(\"d:\\\\data\")\n",
    "emp <- read.csv(\"emp.csv\", header=T)\n",
    "x <- tapply(emp$sal, list(emp$job, emp$deptno), sum)\n",
    "\n",
    "x[is.na(x)] <- 0 # na인 애들이 모두 True로 나오는데 그것들은 0으로 바꾸어라!\n",
    "x"
   ]
  },
  {
   "cell_type": "markdown",
   "metadata": {},
   "source": [
    "## 문제45. 위의 결과에서 column name과 row name을 각각 출력하시오!"
   ]
  },
  {
   "cell_type": "code",
   "execution_count": null,
   "metadata": {},
   "outputs": [],
   "source": [
    "setwd(\"d:\\\\data\")\n",
    "emp <- read.csv(\"emp.csv\", header=T)\n",
    "x <- tapply(emp$sal, list(emp$job, emp$deptno), sum)\n",
    "\n",
    "colnames(x)\n",
    "rownames(x)"
   ]
  },
  {
   "cell_type": "markdown",
   "metadata": {},
   "source": [
    "## 문제46. 문제44번의 결과를 막대그래프로 시각화 하시오!"
   ]
  },
  {
   "cell_type": "code",
   "execution_count": null,
   "metadata": {},
   "outputs": [],
   "source": [
    "setwd(\"d:\\\\data\")\n",
    "emp <- read.csv(\"emp.csv\", header=T)\n",
    "x <- tapply(emp$sal, list(emp$job, emp$deptno), sum)\n",
    "\n",
    "x[is.na(x)] <- 0 # na인 애들이 모두 True로 나오는데 그것들은 0으로 바꾸어라!\n",
    "x\n",
    "\n",
    "barplot(x, col=rainbow(5), legend = rownames(x), beside=T)"
   ]
  },
  {
   "cell_type": "markdown",
   "metadata": {},
   "source": [
    "## 문제47. (점심시간문제) 입사한 년도별 직업별 토탈월급을 막대그래프로 그리시오!"
   ]
  },
  {
   "cell_type": "code",
   "execution_count": null,
   "metadata": {},
   "outputs": [],
   "source": [
    "setwd(\"d:\\\\data\")\n",
    "emp <- read.csv(\"emp.csv\", header=T)\n",
    "x <- tapply(emp$sal,  list(year(emp$hiredate), emp$job), sum)\n",
    "x[is.na(x)] <- 0 # na인 애들이 모두 True로 나오는데 그것들은 0으로 바꾸어라!\n",
    "\n",
    "\n",
    "barplot(x, col=rainbow(4), legend = rownames(x), beside=T)"
   ]
  }
 ],
 "metadata": {
  "kernelspec": {
   "display_name": "Python 3",
   "language": "python",
   "name": "python3"
  },
  "language_info": {
   "codemirror_mode": {
    "name": "ipython",
    "version": 3
   },
   "file_extension": ".py",
   "mimetype": "text/x-python",
   "name": "python",
   "nbconvert_exporter": "python",
   "pygments_lexer": "ipython3",
   "version": "3.7.4"
  }
 },
 "nbformat": 4,
 "nbformat_minor": 2
}
